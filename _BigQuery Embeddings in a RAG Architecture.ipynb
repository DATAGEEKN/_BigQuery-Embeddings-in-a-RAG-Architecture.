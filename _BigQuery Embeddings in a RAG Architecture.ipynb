{
  "cells": [
    {
      "cell_type": "code",
      "id": "jM6KaCWTsU0f8jc2vEuSLpz1",
      "metadata": {
        "tags": [],
        "id": "jM6KaCWTsU0f8jc2vEuSLpz1",
        "colab": {
          "base_uri": "https://localhost:8080/",
          "height": 932
        },
        "executionInfo": {
          "status": "ok",
          "timestamp": 1731417661533,
          "user_tz": -120,
          "elapsed": 13315,
          "user": {
            "displayName": "",
            "userId": ""
          }
        },
        "outputId": "cd4c79b4-0d62-42a1-e559-528d380997ea"
      },
      "source": [
        "!pip install -q --upgrade --user google-cloud-aiplatform google-cloud-bigquery"
      ],
      "execution_count": 1,
      "outputs": [
        {
          "output_type": "stream",
          "name": "stdout",
          "text": [
            "Requirement already satisfied: google-cloud-aiplatform in /usr/local/lib/python3.10/dist-packages (1.70.0)\n",
            "Collecting google-cloud-aiplatform\n",
            "  Downloading google_cloud_aiplatform-1.71.1-py2.py3-none-any.whl.metadata (32 kB)\n",
            "Requirement already satisfied: google-cloud-bigquery in /usr/local/lib/python3.10/dist-packages (3.25.0)\n",
            "Collecting google-cloud-bigquery\n",
            "  Downloading google_cloud_bigquery-3.27.0-py2.py3-none-any.whl.metadata (8.6 kB)\n",
            "Requirement already satisfied: google-api-core!=2.0.*,!=2.1.*,!=2.2.*,!=2.3.*,!=2.4.*,!=2.5.*,!=2.6.*,!=2.7.*,<3.0.0dev,>=1.34.1 in /usr/local/lib/python3.10/dist-packages (from google-api-core[grpc]!=2.0.*,!=2.1.*,!=2.2.*,!=2.3.*,!=2.4.*,!=2.5.*,!=2.6.*,!=2.7.*,<3.0.0dev,>=1.34.1->google-cloud-aiplatform) (2.19.2)\n",
            "Requirement already satisfied: google-auth<3.0.0dev,>=2.14.1 in /usr/local/lib/python3.10/dist-packages (from google-cloud-aiplatform) (2.27.0)\n",
            "Requirement already satisfied: proto-plus<2.0.0dev,>=1.22.3 in /usr/local/lib/python3.10/dist-packages (from google-cloud-aiplatform) (1.24.0)\n",
            "Requirement already satisfied: protobuf!=4.21.0,!=4.21.1,!=4.21.2,!=4.21.3,!=4.21.4,!=4.21.5,<6.0.0dev,>=3.20.2 in /usr/local/lib/python3.10/dist-packages (from google-cloud-aiplatform) (3.20.3)\n",
            "Requirement already satisfied: packaging>=14.3 in /usr/local/lib/python3.10/dist-packages (from google-cloud-aiplatform) (24.1)\n",
            "Requirement already satisfied: google-cloud-storage<3.0.0dev,>=1.32.0 in /usr/local/lib/python3.10/dist-packages (from google-cloud-aiplatform) (2.8.0)\n",
            "Requirement already satisfied: google-cloud-resource-manager<3.0.0dev,>=1.3.3 in /usr/local/lib/python3.10/dist-packages (from google-cloud-aiplatform) (1.12.5)\n",
            "Requirement already satisfied: shapely<3.0.0dev in /usr/local/lib/python3.10/dist-packages (from google-cloud-aiplatform) (2.0.6)\n",
            "Requirement already satisfied: pydantic<3 in /usr/local/lib/python3.10/dist-packages (from google-cloud-aiplatform) (2.9.2)\n",
            "Requirement already satisfied: docstring-parser<1 in /usr/local/lib/python3.10/dist-packages (from google-cloud-aiplatform) (0.16)\n",
            "Requirement already satisfied: google-cloud-core<3.0.0dev,>=2.4.1 in /usr/local/lib/python3.10/dist-packages (from google-cloud-bigquery) (2.4.1)\n",
            "Requirement already satisfied: google-resumable-media<3.0dev,>=2.0.0 in /usr/local/lib/python3.10/dist-packages (from google-cloud-bigquery) (2.7.2)\n",
            "Requirement already satisfied: python-dateutil<3.0dev,>=2.7.3 in /usr/local/lib/python3.10/dist-packages (from google-cloud-bigquery) (2.8.2)\n",
            "Requirement already satisfied: requests<3.0.0dev,>=2.21.0 in /usr/local/lib/python3.10/dist-packages (from google-cloud-bigquery) (2.32.3)\n",
            "Requirement already satisfied: googleapis-common-protos<2.0.dev0,>=1.56.2 in /usr/local/lib/python3.10/dist-packages (from google-api-core!=2.0.*,!=2.1.*,!=2.2.*,!=2.3.*,!=2.4.*,!=2.5.*,!=2.6.*,!=2.7.*,<3.0.0dev,>=1.34.1->google-api-core[grpc]!=2.0.*,!=2.1.*,!=2.2.*,!=2.3.*,!=2.4.*,!=2.5.*,!=2.6.*,!=2.7.*,<3.0.0dev,>=1.34.1->google-cloud-aiplatform) (1.65.0)\n",
            "Requirement already satisfied: grpcio<2.0dev,>=1.33.2 in /usr/local/lib/python3.10/dist-packages (from google-api-core[grpc]!=2.0.*,!=2.1.*,!=2.2.*,!=2.3.*,!=2.4.*,!=2.5.*,!=2.6.*,!=2.7.*,<3.0.0dev,>=1.34.1->google-cloud-aiplatform) (1.64.1)\n",
            "Requirement already satisfied: grpcio-status<2.0.dev0,>=1.33.2 in /usr/local/lib/python3.10/dist-packages (from google-api-core[grpc]!=2.0.*,!=2.1.*,!=2.2.*,!=2.3.*,!=2.4.*,!=2.5.*,!=2.6.*,!=2.7.*,<3.0.0dev,>=1.34.1->google-cloud-aiplatform) (1.48.2)\n",
            "Requirement already satisfied: cachetools<6.0,>=2.0.0 in /usr/local/lib/python3.10/dist-packages (from google-auth<3.0.0dev,>=2.14.1->google-cloud-aiplatform) (5.5.0)\n",
            "Requirement already satisfied: pyasn1-modules>=0.2.1 in /usr/local/lib/python3.10/dist-packages (from google-auth<3.0.0dev,>=2.14.1->google-cloud-aiplatform) (0.4.1)\n",
            "Requirement already satisfied: rsa<5,>=3.1.4 in /usr/local/lib/python3.10/dist-packages (from google-auth<3.0.0dev,>=2.14.1->google-cloud-aiplatform) (4.9)\n",
            "Requirement already satisfied: grpc-google-iam-v1<1.0.0dev,>=0.12.4 in /usr/local/lib/python3.10/dist-packages (from google-cloud-resource-manager<3.0.0dev,>=1.3.3->google-cloud-aiplatform) (0.13.1)\n",
            "Requirement already satisfied: google-crc32c<2.0dev,>=1.0 in /usr/local/lib/python3.10/dist-packages (from google-resumable-media<3.0dev,>=2.0.0->google-cloud-bigquery) (1.6.0)\n",
            "Requirement already satisfied: annotated-types>=0.6.0 in /usr/local/lib/python3.10/dist-packages (from pydantic<3->google-cloud-aiplatform) (0.7.0)\n",
            "Requirement already satisfied: pydantic-core==2.23.4 in /usr/local/lib/python3.10/dist-packages (from pydantic<3->google-cloud-aiplatform) (2.23.4)\n",
            "Requirement already satisfied: typing-extensions>=4.6.1 in /usr/local/lib/python3.10/dist-packages (from pydantic<3->google-cloud-aiplatform) (4.12.2)\n",
            "Requirement already satisfied: six>=1.5 in /usr/local/lib/python3.10/dist-packages (from python-dateutil<3.0dev,>=2.7.3->google-cloud-bigquery) (1.16.0)\n",
            "Requirement already satisfied: charset-normalizer<4,>=2 in /usr/local/lib/python3.10/dist-packages (from requests<3.0.0dev,>=2.21.0->google-cloud-bigquery) (3.4.0)\n",
            "Requirement already satisfied: idna<4,>=2.5 in /usr/local/lib/python3.10/dist-packages (from requests<3.0.0dev,>=2.21.0->google-cloud-bigquery) (3.10)\n",
            "Requirement already satisfied: urllib3<3,>=1.21.1 in /usr/local/lib/python3.10/dist-packages (from requests<3.0.0dev,>=2.21.0->google-cloud-bigquery) (2.2.3)\n",
            "Requirement already satisfied: certifi>=2017.4.17 in /usr/local/lib/python3.10/dist-packages (from requests<3.0.0dev,>=2.21.0->google-cloud-bigquery) (2024.8.30)\n",
            "Requirement already satisfied: numpy<3,>=1.14 in /usr/local/lib/python3.10/dist-packages (from shapely<3.0.0dev->google-cloud-aiplatform) (1.26.4)\n",
            "Requirement already satisfied: pyasn1<0.7.0,>=0.4.6 in /usr/local/lib/python3.10/dist-packages (from pyasn1-modules>=0.2.1->google-auth<3.0.0dev,>=2.14.1->google-cloud-aiplatform) (0.6.1)\n",
            "Downloading google_cloud_aiplatform-1.71.1-py2.py3-none-any.whl (6.2 MB)\n",
            "\u001b[2K   \u001b[90m━━━━━━━━━━━━━━━━━━━━━━━━━━━━━━━━━━━━━━━━\u001b[0m \u001b[32m6.2/6.2 MB\u001b[0m \u001b[31m58.1 MB/s\u001b[0m eta \u001b[36m0:00:00\u001b[0m\n",
            "\u001b[?25hDownloading google_cloud_bigquery-3.27.0-py2.py3-none-any.whl (240 kB)\n",
            "\u001b[2K   \u001b[90m━━━━━━━━━━━━━━━━━━━━━━━━━━━━━━━━━━━━━━━━\u001b[0m \u001b[32m240.1/240.1 kB\u001b[0m \u001b[31m23.3 MB/s\u001b[0m eta \u001b[36m0:00:00\u001b[0m\n",
            "\u001b[?25hInstalling collected packages: google-cloud-bigquery, google-cloud-aiplatform\n",
            "\u001b[33m  WARNING: The script tb-gcp-uploader is installed in '/root/.local/bin' which is not on PATH.\n",
            "  Consider adding this directory to PATH or, if you prefer to suppress this warning, use --no-warn-script-location.\u001b[0m\u001b[33m\n",
            "\u001b[0mSuccessfully installed google-cloud-aiplatform-1.71.1 google-cloud-bigquery-3.27.0\n"
          ]
        },
        {
          "output_type": "display_data",
          "data": {
            "application/vnd.colab-display-data+json": {
              "pip_warning": {
                "packages": [
                  "google"
                ]
              },
              "id": "29038862522f462c9ee5397a45c9e858"
            }
          },
          "metadata": {}
        }
      ]
    },
    {
      "cell_type": "code",
      "source": [
        "# Get project ID\n",
        "PROJECT_ID = ! gcloud config get-value project\n",
        "PROJECT_ID = PROJECT_ID[0]\n",
        "LOCATION = \"us-central1\" # @param {type:\"string\"}\n",
        "print(PROJECT_ID)"
      ],
      "metadata": {
        "colab": {
          "base_uri": "https://localhost:8080/"
        },
        "id": "1ZeQoCr6h7RT",
        "executionInfo": {
          "status": "ok",
          "timestamp": 1731417663540,
          "user_tz": -120,
          "elapsed": 2027,
          "user": {
            "displayName": "",
            "userId": ""
          }
        },
        "outputId": "d0574e36-3575-4882-9789-7002c35e9dcd"
      },
      "id": "1ZeQoCr6h7RT",
      "execution_count": 2,
      "outputs": [
        {
          "output_type": "stream",
          "name": "stdout",
          "text": [
            "qwiklabs-gcp-00-2ac1f74fb415\n"
          ]
        }
      ]
    },
    {
      "cell_type": "code",
      "source": [
        "from google.cloud import aiplatform\n",
        "aiplatform.init(project=PROJECT_ID, location=LOCATION)\n",
        "\n",
        "print(\"Initialized\")"
      ],
      "metadata": {
        "colab": {
          "base_uri": "https://localhost:8080/"
        },
        "id": "50fRno1hh7Up",
        "executionInfo": {
          "status": "ok",
          "timestamp": 1731417671118,
          "user_tz": -120,
          "elapsed": 7584,
          "user": {
            "displayName": "",
            "userId": ""
          }
        },
        "outputId": "e55a7451-295e-4f0a-9dcb-fba068afe1e8"
      },
      "id": "50fRno1hh7Up",
      "execution_count": 3,
      "outputs": [
        {
          "output_type": "stream",
          "name": "stdout",
          "text": [
            "Initialized\n"
          ]
        }
      ]
    },
    {
      "cell_type": "markdown",
      "source": [],
      "metadata": {
        "id": "Of976N3Ehowi"
      },
      "id": "Of976N3Ehowi"
    },
    {
      "cell_type": "code",
      "source": [
        "import vertexai\n",
        "from vertexai.generative_models import GenerativeModel, Part\n",
        "\n",
        "def answer_question_gemini(prompt):\n",
        "  model = GenerativeModel(\"gemini-pro\")\n",
        "  response = model.generate_content(\n",
        "    prompt,\n",
        "    generation_config={\n",
        "        \"max_output_tokens\": 8192,\n",
        "        \"temperature\": 0.5,\n",
        "        \"top_p\": 0.5,\n",
        "        \"top_k\": 10,\n",
        "    },\n",
        "  stream=False,\n",
        "  )\n",
        "  try:\n",
        "    return response.text\n",
        "  except:\n",
        "    print(\"An Error Ocuured Cleaning the Data\")\n",
        "    return \"An Error Ocuured Cleaning the Data\""
      ],
      "metadata": {
        "id": "P6vya3fsiBfE",
        "executionInfo": {
          "status": "ok",
          "timestamp": 1731417672066,
          "user_tz": -120,
          "elapsed": 957,
          "user": {
            "displayName": "",
            "userId": ""
          }
        }
      },
      "id": "P6vya3fsiBfE",
      "execution_count": 4,
      "outputs": []
    },
    {
      "cell_type": "code",
      "source": [
        "def run_search(question):\n",
        "  from google.cloud import bigquery\n",
        "\n",
        "  client = bigquery.Client()\n",
        "\n",
        "  sql = \"\"\"\n",
        "      SELECT query.query, base.title, base.body\n",
        "      FROM VECTOR_SEARCH(\n",
        "      TABLE `bbc_news.bbc_news_with_embeddings_table`, 'text_embedding',\n",
        "      (\n",
        "      SELECT text_embedding, content AS query\n",
        "      FROM ML.GENERATE_TEXT_EMBEDDING(MODEL `bbc_news.embedding_model`,\n",
        "          (SELECT @question AS content))),\n",
        "      top_k => 5)\n",
        "      \"\"\"\n",
        "\n",
        "  job_config = bigquery.QueryJobConfig(\n",
        "    query_parameters=[\n",
        "        bigquery.ScalarQueryParameter(\"question\", \"STRING\", question),\n",
        "    ]\n",
        "  )\n",
        "\n",
        "  query_job = client.query(sql, job_config=job_config)\n",
        "\n",
        "  data = \"\"\n",
        "  for row in query_job:\n",
        "    data += row.body + \"\\n\"\n",
        "\n",
        "  return data"
      ],
      "metadata": {
        "id": "nWYjL9SciCSL",
        "executionInfo": {
          "status": "ok",
          "timestamp": 1731417672066,
          "user_tz": -120,
          "elapsed": 12,
          "user": {
            "displayName": "",
            "userId": ""
          }
        }
      },
      "id": "nWYjL9SciCSL",
      "execution_count": 5,
      "outputs": []
    },
    {
      "cell_type": "code",
      "source": [
        "def build_prompt(data, question):\n",
        "  prompt = \"\"\"\n",
        "    Instructions: Answer the question using the following Context.\n",
        "\n",
        "    Context: {0}\n",
        "\n",
        "    Question: {1}\n",
        "  \"\"\".format(data, question)\n",
        "  return prompt"
      ],
      "metadata": {
        "id": "_igkHAabiFO8",
        "executionInfo": {
          "status": "ok",
          "timestamp": 1731417672067,
          "user_tz": -120,
          "elapsed": 12,
          "user": {
            "displayName": "",
            "userId": ""
          }
        }
      },
      "id": "_igkHAabiFO8",
      "execution_count": 6,
      "outputs": []
    },
    {
      "cell_type": "code",
      "source": [
        "from IPython.core.display import display, HTML\n",
        "\n",
        "def answer_question(question):\n",
        "\n",
        "  data = run_search(question)\n",
        "  display(\"Retrieved Data:\")\n",
        "  display(data)\n",
        "  display(\" . . . \")\n",
        "  prompt = build_prompt(data, question)\n",
        "  answer_gemini = answer_question_gemini(prompt)\n",
        "\n",
        "  return answer_gemini"
      ],
      "metadata": {
        "id": "WTtBeC2niHed",
        "executionInfo": {
          "status": "ok",
          "timestamp": 1731417672067,
          "user_tz": -120,
          "elapsed": 10,
          "user": {
            "displayName": "",
            "userId": ""
          }
        }
      },
      "id": "WTtBeC2niHed",
      "execution_count": 7,
      "outputs": []
    },
    {
      "cell_type": "code",
      "source": [
        "QUESTION = \"Tell me about the US Economy\"\n",
        "\n",
        "answer_gemini = answer_question(QUESTION)\n",
        "display(\"User Question:\")\n",
        "display(QUESTION)\n",
        "display(\"--------------------------------\")\n",
        "display(\"Gemini Answer:\")\n",
        "display(answer_gemini)"
      ],
      "metadata": {
        "colab": {
          "base_uri": "https://localhost:8080/",
          "height": 337
        },
        "id": "Pvvs99VkiKj3",
        "executionInfo": {
          "status": "ok",
          "timestamp": 1731417705709,
          "user_tz": -120,
          "elapsed": 8044,
          "user": {
            "displayName": "",
            "userId": ""
          }
        },
        "outputId": "3844d515-43e4-434e-a39f-52edabe3383b"
      },
      "id": "Pvvs99VkiKj3",
      "execution_count": 8,
      "outputs": [
        {
          "output_type": "display_data",
          "data": {
            "text/plain": [
              "'Retrieved Data:'"
            ],
            "application/vnd.google.colaboratory.intrinsic+json": {
              "type": "string"
            }
          },
          "metadata": {}
        },
        {
          "output_type": "display_data",
          "data": {
            "text/plain": [
              "'The US economy has grown more than expected, expanding at an annual rate of 3.8% in the last quarter of 2004.\\n\\nThe gross domestic product figure was ahead of the 3.1% the government estimated a month ago. The rise reflects stronger spending by businesses on capital equipment and a smaller-than-expected trade deficit. GDP is a measure of a country\\'s economic health, reflecting the value of the goods and services it produces.\\n\\nThe new GDP figure, announced by the Commerce Department on Friday, also topped the 3.5% growth rate that economists had forecast ahead of Friday\\'s announcement. Growth was at an annual rate of 4% in the third quarter of 2004 and for the year it came in at 4.4%, the best figure in five years. However, the positive economic climate may lead to a rise in interest rates, with many expecting US rates to rise on 22 March. In the January-to-March quarter, the economy is expected to grow at an annual rate of about 4%, economists forecast. In the final quarter of 2004, businesses increased spending on capital equipment and software by 18%, up from 17.5% in the third quarter. Consumer spending grew 4.2% in the final quarter, down from the third quarter\\'s 5.1%.\\n\\nThe US created fewer jobs than expected in December, but analysts said that the dip in hiring was not enough to derail the world\\'s biggest economy.\\n\\nAccording to Labor Department figures, 157,000 new jobs were added last month. That took 2004\\'s total to 2.2 million, the best showing in five years. Job creation was one of last year\\'s main concerns for the US economy. While worries still remain, the conditions are set for steady growth in 2005, analysts said. The unemployment rate stayed at 5.4% in December, and about 200,000 jobs will need to be created each month if that figure is to drop.\\n\\n\"It was a respectable report,\" said Michael Moran, analyst at Daiwa Securities.\\n\\n\"Payroll growth in December was a little lighter than the consensus forecast, but we had upward revisions to the prior two months and an increase in manufacturing employment.\" \"Manufacturing is a cyclical area of the economy and if it\\'s showing job growth, it\\'s a good indication that the economy is on a solid growth track.\" That means that the Federal Reserve is likely to continue its policy of raising interest rates. The Fed lifted borrowing costs five times last year to 2.25%, citing evidence the US economic recovery was becoming more robust.\\n\\nJob creation was one of last year\\'s main concerns for the US economy, and proved to be a main topic of debate in the US presidential election. While demand for workers is far from booming, the conditions are set for steady growth. \"Overall, compared to the previous year it looks great, it just keeps going stronger and stronger and I expect that to be the case\" in 2005, said Kurt Karl, economist at Swiss Re in New York. Meanwhile, economists cautioned against reading too much into data from the Federal Reserve showing an unexpected $8.7bn drop in consumer debt in November. A fall in consumer spending, which makes up about two-thirds of all US economic activity, could help limit the extent of any future interest rate rises. But economists said there could be a number of reasons for a fall in the borrowing, which include credit cards and personal loans, while noting that such figures can vary on a month-to-month basis.\\n\\nThe US created fewer jobs than expected in December, but analysts said that the dip in hiring was not enough to derail the world\\'s biggest economy.\\n\\nAccording to Labor Department figures, 157,000 new jobs were added last month. That took 2004\\'s total to 2.2 million, the best showing in five years. Job creation was one of last year\\'s main concerns for the US economy. While worries still remain, the conditions are set for steady growth in 2005, analysts said. The unemployment rate stayed at 5.4% in December, and about 200,000 jobs will need to be created each month if that figure is to drop.\\n\\n\"It was a respectable report,\" said Michael Moran, analyst at Daiwa Securities.\\n\\n\"Payroll growth in December was a little lighter than the consensus forecast, but we had upward revisions to the prior two months and an increase in manufacturing employment.\" \"Manufacturing is a cyclical area of the economy and if it\\'s showing job growth, it\\'s a good indication that the economy is on a solid growth track.\" That means that the Federal Reserve is likely to continue its policy of raising interest rates. The Fed lifted borrowing costs five times last year to 2.25%, citing evidence the US economic recovery was becoming more robust.\\n\\nJob creation was one of last year\\'s main concerns for the US economy, and proved to be a main topic of debate in the US presidential election. While demand for workers is far from booming, the conditions are set for steady growth. \"Overall, compared to the previous year it looks great, it just keeps going stronger and stronger and I expect that to be the case\" in 2005, said Kurt Karl, economist at Swiss Re in New York. Meanwhile, economists cautioned against reading too much into data from the Federal Reserve showing an unexpected $8.7bn drop in consumer debt in November. A fall in consumer spending, which makes up about two-thirds of all US economic activity, could help limit the extent of any future interest rate rises. But economists said there could be a number of reasons for a fall in the borrowing, which include credit cards and personal loans, while noting that such figures can vary on a month-to-month basis.\\n\\nConsumers\\' confidence in the state of the US economy is at its highest for five months and they are optimistic about 2005, an influential survey says.\\n\\nThe feel-good factor among US consumers rose in December for the first time since July according to new data. The Conference Board survey of 5,000 households pointed to renewed optimism about job creation and economic growth. US retailers have reported strong sales over the past 10 days after a slow start to the crucial festive season.\\n\\nAccording to figures also released on Tuesday, sales in shopping malls in the week to 25 December were 4.3% higher than in 2003 following a last minute rush. Wal-Mart, the largest US retailer, has said its December sales are expected to be better than previously forecast because of strong post-Christmas sales.\\n\\nIt is expecting annual sales growth of between 1% and 3% for the month. Consumer confidence figures are considered a key economic indicator because consumer spending accounts for about two thirds of all economic activity in the United States. \"The continuing economic expansion, combined with job growth, has consumers ending this year on a high note,\" said Lynn Franco, director of the Conference Board\\'s consumer research centre. \"And consumers\\' outlook suggests that the economy will continue to expand in the first half of next year.\" The overall US economy has performed strongly in recent months, prompting the Federal Reserve to increase interest rates five times since June.\\n\\nUS industrial production continued to rise in November, albeit at a slower pace than the previous month.\\n\\nThe US Federal Reserve said output from factories, mines and utilities rose 0.3% - in line with forecasts - from a revised 0.6% increase in October. Analysts added that if the carmaking sector - which saw production fall 0.5% - had been excluded the data would have been more impressive. The latest increase means industrial output has grown 4.2% in the past year. Many analysts were upbeat about the prospects for the US economy, with the increase in production coming on the heels of news of a recovery in retail sales. \"This is very consistent with an economy growing at 3.5 to 4.0%. It is congruent with job growth and consumer optimism,\" Comerica chief economist David Littman said of the figures.\\n\\nThe US economy grew at a respectable annual rate of 3.7% in the three months between July and September, while jobs growth averaged 178,000 during the same period. While the employment figures are not spectacular, experts believe they are enough to whittle away at America\\'s 5.4% jobless rate. A breakdown of the latest production figures shows mining output drove the increase, surging 2.1%, while factory output rose 0.3%. But utility output dropped 1.4%. Meanwhile, the amount of factory capacity in use during the month rose to 77.6% - its highest level since May 2001. \"Many investors think that product market inflation won\\'t be a problem until the utilisation rates are at 80% or higher,\" Cary Leahy, senior US economist at Deutsche Bank Securities, said. \"So there is still a lot of inflation-fighting slack in the manufacturing sector,\" \"Overall I\\'d say manufacturing at least away from autos continues to improve and I would bet that it improves at a faster rate in coming months given how lean inventories are,\" Citigroup senior economist Steven Wieting added.\\n\\n'"
            ],
            "application/vnd.google.colaboratory.intrinsic+json": {
              "type": "string"
            }
          },
          "metadata": {}
        },
        {
          "output_type": "display_data",
          "data": {
            "text/plain": [
              "' . . . '"
            ],
            "application/vnd.google.colaboratory.intrinsic+json": {
              "type": "string"
            }
          },
          "metadata": {}
        },
        {
          "output_type": "display_data",
          "data": {
            "text/plain": [
              "'User Question:'"
            ],
            "application/vnd.google.colaboratory.intrinsic+json": {
              "type": "string"
            }
          },
          "metadata": {}
        },
        {
          "output_type": "display_data",
          "data": {
            "text/plain": [
              "'Tell me about the US Economy'"
            ],
            "application/vnd.google.colaboratory.intrinsic+json": {
              "type": "string"
            }
          },
          "metadata": {}
        },
        {
          "output_type": "display_data",
          "data": {
            "text/plain": [
              "'--------------------------------'"
            ],
            "application/vnd.google.colaboratory.intrinsic+json": {
              "type": "string"
            }
          },
          "metadata": {}
        },
        {
          "output_type": "display_data",
          "data": {
            "text/plain": [
              "'Gemini Answer:'"
            ],
            "application/vnd.google.colaboratory.intrinsic+json": {
              "type": "string"
            }
          },
          "metadata": {}
        },
        {
          "output_type": "display_data",
          "data": {
            "text/plain": [
              "\"## The US Economy in 2004: A Year of Strong Growth\\n\\nThe US economy experienced robust growth in 2004, exceeding expectations with a **3.8% annual rate** in the final quarter. This surpassed the government's initial estimate of 3.1% and topped the 3.5% growth rate predicted by economists.\\n\\n**Key factors driving this growth:**\\n\\n* **Stronger business spending:** Businesses increased capital equipment and software spending by 18% in the final quarter, indicating investment in future growth.\\n* **Smaller trade deficit:** The trade deficit was lower than expected, contributing to the overall economic expansion.\\n* **Healthy consumer spending:** Consumer spending grew 4.2% in the final quarter, though slightly lower than the previous quarter's 5.1%.\\n\\n**Overall, 2004 saw:**\\n\\n* **4.4% GDP growth:** The best performance in five years.\\n* **2.2 million new jobs created:** The highest number in five years.\\n* **5.4% unemployment rate:** Showing signs of potential decline with consistent job creation.\\n\\n**However, some concerns remain:**\\n\\n* **Potential interest rate hikes:** The strong economic performance might lead to the Federal Reserve raising interest rates, potentially impacting borrowing and investment.\\n* **Consumer debt:** While a decrease in consumer debt was observed in November, it's crucial to monitor its long-term trend and potential impact on spending.\\n\\n**Overall, the US economy in 2004 displayed significant strength and positive momentum. However, continued monitoring of potential risks and maintaining a balanced approach are crucial for sustained growth in the future.** \\n\""
            ],
            "application/vnd.google.colaboratory.intrinsic+json": {
              "type": "string"
            }
          },
          "metadata": {}
        }
      ]
    },
    {
      "cell_type": "code",
      "source": [],
      "metadata": {
        "id": "aTvYY7YxiWp3"
      },
      "id": "aTvYY7YxiWp3",
      "execution_count": null,
      "outputs": []
    }
  ],
  "metadata": {
    "kernelspec": {
      "display_name": "Python 3",
      "language": "python",
      "name": "python3"
    },
    "language_info": {
      "codemirror_mode": {
        "name": "ipython",
        "version": 3
      },
      "file_extension": ".py",
      "mimetype": "text/x-python",
      "name": "python",
      "nbconvert_exporter": "python",
      "pygments_lexer": "ipython3",
      "version": "3.10.10"
    },
    "colab": {
      "provenance": [],
      "name": "student-03-386ace3c8be0 (Nov 12, 2024, 3:16:54 PM)"
    }
  },
  "nbformat": 4,
  "nbformat_minor": 5
}